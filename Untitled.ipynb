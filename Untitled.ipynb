{
 "cells": [
  {
   "cell_type": "code",
   "execution_count": 3,
   "id": "6b7a0c32",
   "metadata": {},
   "outputs": [
    {
     "ename": "ModuleNotFoundError",
     "evalue": "No module named 'playsound'",
     "output_type": "error",
     "traceback": [
      "\u001b[1;31m---------------------------------------------------------------------------\u001b[0m",
      "\u001b[1;31mModuleNotFoundError\u001b[0m                       Traceback (most recent call last)",
      "Input \u001b[1;32mIn [3]\u001b[0m, in \u001b[0;36m<cell line: 5>\u001b[1;34m()\u001b[0m\n\u001b[0;32m      3\u001b[0m \u001b[38;5;28;01mimport\u001b[39;00m \u001b[38;5;21;01mjoblib\u001b[39;00m\n\u001b[0;32m      4\u001b[0m \u001b[38;5;28;01mimport\u001b[39;00m \u001b[38;5;21;01mcv2\u001b[39;00m\n\u001b[1;32m----> 5\u001b[0m \u001b[38;5;28;01mfrom\u001b[39;00m \u001b[38;5;21;01mplaysound\u001b[39;00m \u001b[38;5;28;01mimport\u001b[39;00m playsound\n\u001b[0;32m      6\u001b[0m vv\u001b[38;5;241m=\u001b[39m\u001b[38;5;241m0\u001b[39m\n\u001b[0;32m      7\u001b[0m app \u001b[38;5;241m=\u001b[39m Flask(\u001b[38;5;18m__name__\u001b[39m)\n",
      "\u001b[1;31mModuleNotFoundError\u001b[0m: No module named 'playsound'"
     ]
    }
   ],
   "source": [
    "from flask import Flask,request, url_for, redirect, render_template,Response\n",
    "import numpy as np\n",
    "import joblib\n",
    "import cv2\n",
    "from playsound import playsound\n",
    "vv=0\n",
    "app = Flask(__name__)\n",
    "model1=joblib.load('forestfiremodel.pkl')\n",
    "camera=cv2.VideoCapture(0)\n",
    "fire_cascade = cv2.CascadeClassifier('fire_detection.xml')\n",
    "m2=joblib.load('m2.pkl')\n",
    "\n",
    "\n",
    "\n",
    "\n",
    "\n",
    "\n",
    "\n",
    "@app.route('/')\n",
    "def hello_world():\n",
    "    vv=1\n",
    "    return render_template(\"index.html\")\n",
    "@app.route('/output')\n",
    "def output():\n",
    "    vv=1\n",
    "    return render_template(\"index.html\")\n",
    "@app.route('/co')\n",
    "def co():\n",
    "    return render_template(\"co.html\")\n",
    "\n",
    "\n",
    "\n",
    "\n",
    "\n",
    "\n",
    "\n",
    "\n",
    "\n",
    "\n",
    "\n",
    "\n",
    "\n",
    "    \n",
    "def generate_frames():\n",
    "    while True:\n",
    "            \n",
    "        ## read the camera frame\n",
    "        success,frame=camera.read()\n",
    "        if not success:\n",
    "            break\n",
    "        elif(vv==1):\n",
    "            camera.release()\n",
    "            cv2.destroyAllWindows()\n",
    "        else:\n",
    "\n",
    "            gray = cv2.cvtColor(frame, cv2.COLOR_BGR2GRAY)\n",
    "            fire = fire_cascade.detectMultiScale(frame, 1.2, 5)\n",
    "            for (x,y,w,h) in fire:\n",
    "                cv2.rectangle(frame,(x-20,y-20),(x+w+20,y+h+20),(255,0,0),2)\n",
    "                roi_gray = gray[y:y+h, x:x+w]\n",
    "                roi_color = frame[y:y+h, x:x+w]\n",
    "                \n",
    "                playsound('audio.mp3')\n",
    "               "
   ]
  },
  {
   "cell_type": "code",
   "execution_count": 4,
   "id": "c452e86b",
   "metadata": {},
   "outputs": [
    {
     "name": "stdout",
     "output_type": "stream",
     "text": [
      "Collecting playsound\n",
      "  Using cached playsound-1.3.0-py3-none-any.whl\n",
      "Installing collected packages: playsound\n",
      "Successfully installed playsound-1.3.0\n",
      "Note: you may need to restart the kernel to use updated packages.\n"
     ]
    }
   ],
   "source": []
  },
  {
   "cell_type": "code",
   "execution_count": null,
   "id": "2a42b119",
   "metadata": {},
   "outputs": [],
   "source": []
  }
 ],
 "metadata": {
  "kernelspec": {
   "display_name": "Python 3 (ipykernel)",
   "language": "python",
   "name": "python3"
  },
  "language_info": {
   "codemirror_mode": {
    "name": "ipython",
    "version": 3
   },
   "file_extension": ".py",
   "mimetype": "text/x-python",
   "name": "python",
   "nbconvert_exporter": "python",
   "pygments_lexer": "ipython3",
   "version": "3.9.12"
  }
 },
 "nbformat": 4,
 "nbformat_minor": 5
}
